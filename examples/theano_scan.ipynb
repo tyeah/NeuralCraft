{
 "cells": [
  {
   "cell_type": "code",
   "execution_count": 9,
   "metadata": {
    "collapsed": true
   },
   "outputs": [],
   "source": [
    "import theano as th\n",
    "from theano import tensor as T\n",
    "import numpy as np"
   ]
  },
  {
   "cell_type": "code",
   "execution_count": 2,
   "metadata": {
    "collapsed": false
   },
   "outputs": [
    {
     "name": "stdout",
     "output_type": "stream",
     "text": [
      "10\n"
     ]
    }
   ],
   "source": [
    "count=0\n",
    "for i in range(1,11):\n",
    "    count+=1\n",
    "print count"
   ]
  },
  {
   "cell_type": "code",
   "execution_count": 3,
   "metadata": {
    "collapsed": true
   },
   "outputs": [],
   "source": [
    "i = T.iscalar('i')\n",
    "results, updates = th.scan(fn=lambda previous_count: previous_count+1,\n",
    "                            outputs_info=0,\n",
    "                            n_steps=i)"
   ]
  },
  {
   "cell_type": "markdown",
   "metadata": {},
   "source": [
    "Let's try and understand some of this. Firstly the integer variable i is there to tell scan how many times to iterate. Next we pass scan a function which it applies on each iteration, the first argument to the function is always the ***output from the previous call of the function***. We also have to tell scan what the outputs of the function should look like and initialize the count to zero. What we create are a variable results that will hold all of the function outputs, and updates, which are used as updates in a theano function."
   ]
  },
  {
   "cell_type": "code",
   "execution_count": 4,
   "metadata": {
    "collapsed": false
   },
   "outputs": [
    {
     "name": "stdout",
     "output_type": "stream",
     "text": [
      "[ 1  2  3  4  5  6  7  8  9 10]\n"
     ]
    }
   ],
   "source": [
    "f = th.function(inputs=[i], outputs=results, updates=updates)\n",
    "print f(10)"
   ]
  },
  {
   "cell_type": "markdown",
   "metadata": {},
   "source": [
    "Notice that it returns the result at each iteration. If you only care about the end result you could create a different function."
   ]
  },
  {
   "cell_type": "code",
   "execution_count": 5,
   "metadata": {
    "collapsed": false
   },
   "outputs": [
    {
     "name": "stdout",
     "output_type": "stream",
     "text": [
      "10\n"
     ]
    }
   ],
   "source": [
    "f = th.function(inputs=[i], outputs=results[-1], updates=updates)\n",
    "print f(10)"
   ]
  },
  {
   "cell_type": "markdown",
   "metadata": {},
   "source": [
    "This is worth doing since Theano is smart and will optimize by discarding the intermediate values once they are no longer needed. Next we will try a slightly trickier form of iteration. You have seen that scan stores the results of all the iterations, and so the function to be ***applied at each stage can accept as arugments any of the previous results***. This allows us to compute any recurrence relation we like, let's try everybody's favourite: the Fibonacci sequence."
   ]
  },
  {
   "cell_type": "code",
   "execution_count": 6,
   "metadata": {
    "collapsed": true
   },
   "outputs": [],
   "source": [
    "i = T.iscalar('i') #Number of iterations.\n",
    "x0 = T.ivector('x0') #Initializes the recurrence, since we need the previous \n",
    "                    #two terms in the Fibonacci sequence, we need an inital vector\n",
    "                    #with two terms.\n",
    "results, updates = th.scan(fn=lambda f_m_1,f_m_2: f_m_1+f_m_2,\n",
    "                            outputs_info=[{'initial':x0, 'taps':[-2,-1]}],\n",
    "                            n_steps=i)"
   ]
  },
  {
   "cell_type": "markdown",
   "metadata": {},
   "source": [
    "In order to set this up, we need to provide scan with a bit more information. In the outputs_info argument we provide a list of dictionaries. We need to say what the ***inital variable*** is, in this case x0, and what arguments will be passed to the function at each step. The key ***'taps'*** is a list of indices to the results to be used as arguments, -1 and -2 mean the last and penultimate entries. By default, taps is set to [-1]."
   ]
  },
  {
   "cell_type": "code",
   "execution_count": 7,
   "metadata": {
    "collapsed": false
   },
   "outputs": [
    {
     "name": "stdout",
     "output_type": "stream",
     "text": [
      "[          1           2           3           5           8          13\n",
      "          21          34          55          89         144         233\n",
      "         377         610         987        1597        2584        4181\n",
      "        6765       10946       17711       28657       46368       75025\n",
      "      121393      196418      317811      514229      832040     1346269\n",
      "     2178309     3524578     5702887     9227465    14930352    24157817\n",
      "    39088169    63245986   102334155   165580141   267914296   433494437\n",
      "   701408733  1134903170  1836311903 -1323752223   512559680  -811192543\n",
      "  -298632863 -1109825406]\n"
     ]
    }
   ],
   "source": [
    "f=th.function(inputs=[i,x0], outputs=results, updates=updates)\n",
    "print f(50, np.asarray([0,1], dtype=np.int32))"
   ]
  },
  {
   "cell_type": "markdown",
   "metadata": {},
   "source": [
    "I deliberately set the number of iterations high, you can see that when we get too large for an int32 to handle, we get overflow. So next let's try and some flow control to our loops, so we can end early if a condition is met, like say overflow."
   ]
  },
  {
   "cell_type": "code",
   "execution_count": 8,
   "metadata": {
    "collapsed": true
   },
   "outputs": [],
   "source": [
    "def fib(f_m_1, f_m_2):\n",
    "    ret= f_m_1+ f_m_2\n",
    "    return ret, th.scan_module.until(ret <0)\n",
    "i = T.iscalar('i') #Number of iterations.\n",
    "x0 = T.ivector('x0') #Initializes the recurrence, since we need the previous \n",
    "                    #two terms in the Fibonacci sequence, we need an inital vector\n",
    "                    #with two terms.\n",
    "results, updates = th.scan(fn=fib,\n",
    "                            outputs_info=[{'initial':x0, 'taps':[-2,-1]}],\n",
    "                           \n",
    "                            n_steps=i)"
   ]
  },
  {
   "cell_type": "code",
   "execution_count": 9,
   "metadata": {
    "collapsed": false
   },
   "outputs": [
    {
     "name": "stdout",
     "output_type": "stream",
     "text": [
      "[          1           2           3           5           8          13\n",
      "          21          34          55          89         144         233\n",
      "         377         610         987        1597        2584        4181\n",
      "        6765       10946       17711       28657       46368       75025\n",
      "      121393      196418      317811      514229      832040     1346269\n",
      "     2178309     3524578     5702887     9227465    14930352    24157817\n",
      "    39088169    63245986   102334155   165580141   267914296   433494437\n",
      "   701408733  1134903170  1836311903 -1323752223]\n"
     ]
    }
   ],
   "source": [
    "f=th.function(inputs=[i,x0], outputs=results, updates=updates)\n",
    "print f(50, np.asarray([0,1], dtype=np.int32))"
   ]
  },
  {
   "cell_type": "markdown",
   "metadata": {},
   "source": [
    "This conditional ending is a bit obscure, but you see that the key is to return two values from the function, the second being a th.scan_module.until(termination_condition)."
   ]
  },
  {
   "cell_type": "markdown",
   "metadata": {},
   "source": [
    "Now let's do something a little less trival and implement the Newton-Raphson method for finding the zeros of a function with continuous second derivative. You can read about the method here: http://en.wikipedia.org/wiki/Newton%27s_method."
   ]
  },
  {
   "cell_type": "code",
   "execution_count": 10,
   "metadata": {
    "collapsed": false
   },
   "outputs": [
    {
     "data": {
      "text/plain": [
       "<matplotlib.legend.Legend at 0x7f0c2e8a6050>"
      ]
     },
     "execution_count": 10,
     "metadata": {},
     "output_type": "execute_result"
    },
    {
     "data": {
      "image/png": "[encoded data removed]",
      "text/plain": [
       "<matplotlib.figure.Figure at 0x7f0c3147cf90>"
      ]
     },
     "metadata": {},
     "output_type": "display_data"
    }
   ],
   "source": [
    "#First we create a symbolic variable.\n",
    "x=T.dscalar('x')\n",
    "f = 6*x**3 - 2*x**2 +9*x+ 1 + T.cos(x)\n",
    "f_prime = T.grad(f,x)\n",
    "f_prime_2 = T.grad(f_prime, x)\n",
    "\n",
    "#Then the compiled theano functions for plotting.\n",
    "F = th.function(inputs=[x], outputs=f)\n",
    "F_prime = th.function(inputs=[x], outputs=f_prime)\n",
    "F_prime_2 = th.function(inputs=[x], outputs=f_prime_2)\n",
    "\n",
    "#Now let's make a plot.\n",
    "xs = np.linspace(-1,1,1000)\n",
    "y1 = [F(z) for z in xs]\n",
    "y2 = [F_prime(z) for z in xs]\n",
    "y3 = [F_prime_2(z) for z in xs]\n",
    "\n",
    "import matplotlib.pyplot as plt\n",
    "%matplotlib inline\n",
    "plt.plot(xs, y1, label='f')\n",
    "plt.plot(xs, y2, label='f\\'')\n",
    "plt.plot(xs, y3, label='f\\'\\'')\n",
    "plt.plot(xs, [0 for z in xs], label='zero')\n",
    "plt.legend()"
   ]
  },
  {
   "cell_type": "code",
   "execution_count": 11,
   "metadata": {
    "collapsed": true
   },
   "outputs": [],
   "source": [
    "i=T.iscalar('k') #Number of iterations variable."
   ]
  },
  {
   "cell_type": "code",
   "execution_count": 12,
   "metadata": {
    "collapsed": true
   },
   "outputs": [],
   "source": [
    "def update_func(func):\n",
    "    #Argument func is a function producing the symbolic variable representation of the function we want to zero.\n",
    "    def update(z):\n",
    "        return z-func(z)/T.grad(func(z),z)\n",
    "    return update\n",
    "def f(z):\n",
    "    return  6*z**3 - 2*z**2 +9*z+ 1 + T.cos(z)"
   ]
  },
  {
   "cell_type": "code",
   "execution_count": 13,
   "metadata": {
    "collapsed": true
   },
   "outputs": [],
   "source": [
    "results, updates = th.scan(fn=update_func(f),\n",
    "                           outputs_info = x,\n",
    "                           n_steps=i)"
   ]
  },
  {
   "cell_type": "code",
   "execution_count": 14,
   "metadata": {
    "collapsed": true
   },
   "outputs": [],
   "source": [
    "NR = th.function(inputs=[x,i], outputs=results[-1], updates=updates)"
   ]
  },
  {
   "cell_type": "code",
   "execution_count": 15,
   "metadata": {
    "collapsed": false
   },
   "outputs": [
    {
     "name": "stdout",
     "output_type": "stream",
     "text": [
      "-0.204844163928\n"
     ]
    }
   ],
   "source": [
    "print NR(0.21, 30)"
   ]
  },
  {
   "cell_type": "markdown",
   "metadata": {},
   "source": [
    "So it works, hurray! Just to point out however, there is not much point in using scan for something this quick, using a python for loop with compiled theano functions inside would be just as quick."
   ]
  },
  {
   "cell_type": "code",
   "execution_count": 16,
   "metadata": {
    "collapsed": false
   },
   "outputs": [
    {
     "data": {
      "text/plain": [
       "-0.20484416392829791"
      ]
     },
     "execution_count": 16,
     "metadata": {},
     "output_type": "execute_result"
    }
   ],
   "source": [
    "def loop(k):\n",
    "    guess=0.21\n",
    "    for i in range(k):\n",
    "        guess= guess-F(guess)/F_prime(guess)\n",
    "    return guess\n",
    "loop(30)"
   ]
  },
  {
   "cell_type": "code",
   "execution_count": 17,
   "metadata": {
    "collapsed": false
   },
   "outputs": [
    {
     "name": "stdout",
     "output_type": "stream",
     "text": [
      "100000000 loops, best of 3: 16.2 ns per loop\n"
     ]
    }
   ],
   "source": [
    "%timeit 'loop(300)'"
   ]
  },
  {
   "cell_type": "code",
   "execution_count": 18,
   "metadata": {
    "collapsed": false
   },
   "outputs": [
    {
     "name": "stdout",
     "output_type": "stream",
     "text": [
      "100000000 loops, best of 3: 16.5 ns per loop\n"
     ]
    }
   ],
   "source": [
    "%timeit 'NR(0.21, 300)'"
   ]
  },
  {
   "cell_type": "markdown",
   "metadata": {},
   "source": [
    "Now to finish, I will demonstrate scan's ability to iterate over tensors, like a list comprehension.\n",
    "\n",
    "Let's try summing a vector first. In this case we pass scan a 'sequences' argument, the object we would like to iterate over.\n",
    "\n",
    "***Note that we iterate over the first dimension of the tensor. For a vector this means the entries. For a matrix we iterate over the rows. And so on.***\n",
    "\n",
    "To iterate over the columns of a matrix you would transpose it."
   ]
  },
  {
   "cell_type": "code",
   "execution_count": 19,
   "metadata": {
    "collapsed": true
   },
   "outputs": [],
   "source": [
    "x=T.vector('x')\n",
    "results, updates = th.scan(fn=lambda x_m_1, x0: x_m_1+x0,\n",
    "                           outputs_info=0.0,\n",
    "                           sequences=x)"
   ]
  },
  {
   "cell_type": "code",
   "execution_count": 20,
   "metadata": {
    "collapsed": false
   },
   "outputs": [
    {
     "name": "stdout",
     "output_type": "stream",
     "text": [
      "12.0\n"
     ]
    }
   ],
   "source": [
    "X=np.asarray([1,1,3,5,11,-9], dtype=np.float32)\n",
    "print sum(X)"
   ]
  },
  {
   "cell_type": "code",
   "execution_count": 21,
   "metadata": {
    "collapsed": false
   },
   "outputs": [
    {
     "name": "stdout",
     "output_type": "stream",
     "text": [
      "12.0\n"
     ]
    }
   ],
   "source": [
    "print results[-1].eval({x:X})"
   ]
  },
  {
   "cell_type": "markdown",
   "metadata": {},
   "source": [
    "###*We can see, in fn, for example, if it has 4 arguments x0, x1, x2, x3, x4, x5, x6 sequences=[x, y, z] are provided, and taps = [-2, -1], non_sequences = [ns0, ns1]. Then x0, x1, x2, x3, x4, x5, x6 represent the element from x, element from y, element from z, , -2 output element, -1 output element*, ns0, ns1"
   ]
  },
  {
   "cell_type": "code",
   "execution_count": 2,
   "metadata": {
    "collapsed": false
   },
   "outputs": [],
   "source": [
    "x=T.vector('x')\n",
    "y = T.vector('y')\n",
    "x0 = T.vector('x0')\n",
    "ns0 = T.scalar('ns0')\n",
    "ns1 = T.scalar('ns1')\n",
    "i = T.iscalar('iter')\n",
    "results, updates = th.scan(fn=lambda x0, y0, x_m_2, x_m_1, ns0, ns1: ns0 * x0 + ns1 * y0 + 2 * x_m_2 + 1 * x_m_1,\n",
    "                           outputs_info=[{'initial':x0, 'taps':[-2,-1]}],\n",
    "                           sequences=[x, y],\n",
    "                           non_sequences = [ns0, ns1],\n",
    "                           n_steps=i)"
   ]
  },
  {
   "cell_type": "code",
   "execution_count": 3,
   "metadata": {
    "collapsed": true
   },
   "outputs": [],
   "source": [
    "f = th.function(inputs=[i, x, y, x0, ns0, ns1], outputs=results, allow_input_downcast=True)"
   ]
  },
  {
   "cell_type": "code",
   "execution_count": 4,
   "metadata": {
    "collapsed": false
   },
   "outputs": [
    {
     "data": {
      "text/plain": [
       "array([   5.,   12.,   32.,   71.,  155.], dtype=float32)"
      ]
     },
     "execution_count": 4,
     "metadata": {},
     "output_type": "execute_result"
    }
   ],
   "source": [
    "#xx = np.arange(10.0)\n",
    "xx = np.zeros(10)\n",
    "yy = np.arange(10.0)\n",
    "nss0 = 2.\n",
    "nss1 = 5.\n",
    "#yy = np.zeros(10)\n",
    "xx0 = np.array([2.0, 1.0])\n",
    "ii = 5\n",
    "f(ii, xx, yy, xx0, nss0, nss1)"
   ]
  },
  {
   "cell_type": "code",
   "execution_count": 6,
   "metadata": {
    "collapsed": false
   },
   "outputs": [
    {
     "data": {
      "text/plain": [
       "OrderedUpdates()"
      ]
     },
     "execution_count": 6,
     "metadata": {},
     "output_type": "execute_result"
    }
   ],
   "source": [
    "updates"
   ]
  },
  {
   "cell_type": "markdown",
   "metadata": {},
   "source": [
    "***Shared Variable***"
   ]
  },
  {
   "cell_type": "markdown",
   "metadata": {},
   "source": [
    "We can encode shared variable into scan like the following. Pay attention to the datatype of the shared variable"
   ]
  },
  {
   "cell_type": "code",
   "execution_count": 10,
   "metadata": {
    "collapsed": false
   },
   "outputs": [],
   "source": [
    "w = th.shared(value=np.array(2).astype('float32'), allow_downcast=True)"
   ]
  },
  {
   "cell_type": "code",
   "execution_count": 11,
   "metadata": {
    "collapsed": false
   },
   "outputs": [],
   "source": [
    "x=T.vector('x')\n",
    "y = T.vector('y')\n",
    "x0 = T.vector('x0')\n",
    "ns0 = T.scalar('ns0')\n",
    "ns1 = T.scalar('ns1')\n",
    "i = T.iscalar('iter')\n",
    "results, updates = th.scan(fn=lambda x0, y0, x_m_2, x_m_1, ns0, ns1: w * ns0 * x0 + w * ns1 * y0 + 2 * x_m_2 + 1 * x_m_1,\n",
    "                           outputs_info=[{'initial':x0, 'taps':[-2,-1]}],\n",
    "                           sequences=[x, y],\n",
    "                           non_sequences = [ns0, ns1],\n",
    "                           n_steps=i)"
   ]
  },
  {
   "cell_type": "code",
   "execution_count": 4,
   "metadata": {
    "collapsed": false
   },
   "outputs": [],
   "source": [
    "f = th.function(inputs=[i, x, y, x0, ns0, ns1], outputs=results, allow_input_downcast=True)"
   ]
  },
  {
   "cell_type": "code",
   "execution_count": 5,
   "metadata": {
    "collapsed": false
   },
   "outputs": [
    {
     "data": {
      "text/plain": [
       "array([   5.,   17.,   47.,  111.,  245.], dtype=float32)"
      ]
     },
     "execution_count": 5,
     "metadata": {},
     "output_type": "execute_result"
    }
   ],
   "source": [
    "#xx = np.arange(10.0)\n",
    "xx = np.zeros(10)\n",
    "yy = np.arange(10.0)\n",
    "nss0 = 2.\n",
    "nss1 = 5.\n",
    "#yy = np.zeros(10)\n",
    "xx0 = np.array([2.0, 1.0])\n",
    "ii = 5\n",
    "f(ii, xx, yy, xx0, nss0, nss1)"
   ]
  },
  {
   "cell_type": "code",
   "execution_count": 34,
   "metadata": {
    "collapsed": false
   },
   "outputs": [
    {
     "data": {
      "text/plain": [
       "array([   5.,   22.,   62.,  151.,  335.], dtype=float32)"
      ]
     },
     "execution_count": 34,
     "metadata": {},
     "output_type": "execute_result"
    }
   ],
   "source": [
    "w.set_value(3)\n",
    "f(ii, xx, yy, xx0, nss0, nss1)"
   ]
  },
  {
   "cell_type": "markdown",
   "metadata": {},
   "source": [
    "####initialize with theano.shared\n",
    "####initial in outputs_info can be tensor or shared, but not np.array"
   ]
  },
  {
   "cell_type": "code",
   "execution_count": 19,
   "metadata": {
    "collapsed": false
   },
   "outputs": [],
   "source": [
    "results, updates = th.scan(fn=lambda x0, y0, x_m_2, x_m_1, ns0, ns1: w * ns0 * x0 + w * ns1 * y0 + 2 * x_m_2 + 1 * x_m_1,\n",
    "                           outputs_info=[{'initial':th.shared(np.array([2.0, 1.0])), 'taps':[-2,-1]}],\n",
    "                           sequences=[x, y],\n",
    "                           non_sequences = [ns0, ns1],\n",
    "                           n_steps=i)"
   ]
  },
  {
   "cell_type": "code",
   "execution_count": 20,
   "metadata": {
    "collapsed": false
   },
   "outputs": [],
   "source": [
    "f = th.function(inputs=[i, x, y, ns0, ns1], outputs=results, allow_input_downcast=True)"
   ]
  },
  {
   "cell_type": "code",
   "execution_count": 21,
   "metadata": {
    "collapsed": false
   },
   "outputs": [
    {
     "data": {
      "text/plain": [
       "array([   5.,   17.,   47.,  111.,  245.])"
      ]
     },
     "execution_count": 21,
     "metadata": {},
     "output_type": "execute_result"
    }
   ],
   "source": [
    "f(ii, xx, yy, nss0, nss1)"
   ]
  },
  {
   "cell_type": "markdown",
   "metadata": {},
   "source": [
    "####cannot broadcast init?"
   ]
  },
  {
   "cell_type": "code",
   "execution_count": 44,
   "metadata": {
    "collapsed": false
   },
   "outputs": [],
   "source": [
    "w = th.shared(value=np.ones((2, 2)).astype('float32'), allow_downcast=True)\n",
    "x=T.matrix('x')\n",
    "y = T.matrix('y')\n",
    "x0 = T.matrix('x0')\n",
    "ns0 = T.vector('ns0')\n",
    "ns1 = T.vector('ns1')\n",
    "i = T.iscalar('iter')\n",
    "\n",
    "results, updates = th.scan(fn=lambda x0, y0, x_m_1, ns0, ns1: w * ns0 * x0 + w * ns1 * y0 + 1 * x_m_1,\n",
    "                           outputs_info=[{'initial':th.shared(np.ones((2, 2))), 'taps':[-1]}],\n",
    "                           sequences=[x, y],\n",
    "                           non_sequences = [ns0, ns1],\n",
    "                           n_steps=i)\n",
    "f = th.function(inputs=[i, x, y, ns0, ns1], outputs=results, allow_input_downcast=True)"
   ]
  },
  {
   "cell_type": "code",
   "execution_count": 45,
   "metadata": {
    "collapsed": false
   },
   "outputs": [
    {
     "data": {
      "text/plain": [
       "array([[[   1.,    6.],\n",
       "        [   1.,    6.]],\n",
       "\n",
       "       [[  11.,   21.],\n",
       "        [  11.,   21.]],\n",
       "\n",
       "       [[  31.,   46.],\n",
       "        [  31.,   46.]],\n",
       "\n",
       "       [[  61.,   81.],\n",
       "        [  61.,   81.]],\n",
       "\n",
       "       [[ 101.,  126.],\n",
       "        [ 101.,  126.]]])"
      ]
     },
     "execution_count": 45,
     "metadata": {},
     "output_type": "execute_result"
    }
   ],
   "source": [
    "#xx = np.arange(10.0)\n",
    "xx = np.zeros((10,2))\n",
    "yy = np.arange(20.0).reshape(10, 2)\n",
    "nss0 = [2., 2.]\n",
    "nss1 = [5., 5.]\n",
    "ii = 5\n",
    "f(ii, xx, yy, nss0, nss1)"
   ]
  },
  {
   "cell_type": "code",
   "execution_count": null,
   "metadata": {
    "collapsed": true
   },
   "outputs": [],
   "source": []
  }
 ],
 "metadata": {
  "kernelspec": {
   "display_name": "Python 2",
   "language": "python",
   "name": "python2"
  },
  "language_info": {
   "codemirror_mode": {
    "name": "ipython",
    "version": 2
   },
   "file_extension": ".py",
   "mimetype": "text/x-python",
   "name": "python",
   "nbconvert_exporter": "python",
   "pygments_lexer": "ipython2",
   "version": "2.7.11"
  }
 },
 "nbformat": 4,
 "nbformat_minor": 0
}
